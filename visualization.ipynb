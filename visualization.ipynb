{
 "cells": [
  {
   "cell_type": "code",
   "execution_count": null,
   "metadata": {},
   "outputs": [],
   "source": [
    "import numpy as np\n",
    "import matplotlib.pyplot as plt\n",
    "# display plots in this notebook\n",
    "%matplotlib inline"
   ]
  },
  {
   "cell_type": "code",
   "execution_count": null,
   "metadata": {},
   "outputs": [],
   "source": [
    "data = np.load('visualize_data.npz')\n",
    "print(data.keys())\n",
    "weight = data[data.keys()[0]]\n",
    "print(weight.shape)"
   ]
  },
  {
   "cell_type": "code",
   "execution_count": null,
   "metadata": {},
   "outputs": [],
   "source": [
    "def img_norm(data, mark):\n",
    "    line_coordinate = np.argwhere(data == mark)\n",
    "       \n",
    "    if np.min(data) > 0 :\n",
    "        data -= np.min(data)\n",
    "    else :\n",
    "        data += np.abs(np.min(data))\n",
    "    \n",
    "    data / np.max(data)    \n",
    "    \n",
    "    for coor in line_coordinate :\n",
    "        data[coor[0], coor[1]] = 0\n",
    "    \n",
    "    return data"
   ]
  },
  {
   "cell_type": "code",
   "execution_count": null,
   "metadata": {
    "scrolled": true
   },
   "outputs": [],
   "source": [
    "#convolution filter visualization\n",
    "keys = ['c1', 'c2']\n",
    "fold = weight.shape[0]\n",
    "epoch = weight.shape[1]\n",
    "mark = 24\n",
    "\n",
    "fig = plt.figure(frameon=False)\n",
    "\n",
    "for key_idx in keys:\n",
    "    #Reshape filter data\n",
    "    fold_tmp = []\n",
    "    for fold_idx in range(fold) :\n",
    "        epoch_tmp = []\n",
    "        for epoch_idx in range(epoch) :\n",
    "            epoch_tmp.append(weight[fold_idx, epoch_idx][key_idx])\n",
    "        fold_tmp.append(epoch_tmp)\n",
    "    fold_tmp = np.array(fold_tmp)\n",
    "    print(fold_tmp.shape)\n",
    "    k_size = fold_tmp.shape[2]\n",
    "    \n",
    "    draw_data = fold_tmp\n",
    "    \n",
    "    #Draw figure\n",
    "    for fold_idx in range(fold) :\n",
    "        for epoch_idx in range(epoch) :\n",
    "            for out_idx in range(draw_data.shape[5]):\n",
    "                for in_idx in range(draw_data.shape[4]):\n",
    "                    if in_idx == 0 :\n",
    "                        in_tmp = draw_data[fold_idx, epoch_idx, :, :, in_idx, out_idx].reshape(k_size*k_size,1)\n",
    "                    else :\n",
    "                        in_tmp = np.hstack((in_tmp, draw_data[fold_idx, epoch_idx, :, :, in_idx, out_idx].reshape(k_size*k_size,1)))\n",
    "                if out_idx == 0 :\n",
    "                    out_tmp = in_tmp\n",
    "                else :\n",
    "                    out_tmp = np.vstack((out_tmp, np.zeros((1,out_tmp.shape[1]))+mark))\n",
    "                    out_tmp = np.vstack((out_tmp, in_tmp))\n",
    "            if epoch_idx == 0 :\n",
    "                epoch_tmp = out_tmp\n",
    "            else :\n",
    "                epoch_tmp = np.hstack((epoch_tmp, np.zeros((epoch_tmp.shape[0], 1))+mark))\n",
    "                epoch_tmp = np.hstack((epoch_tmp, out_tmp))\n",
    "        print(epoch_tmp.shape)\n",
    "        conv_img = img_norm(epoch_tmp, mark)\n",
    "                \n",
    "        fname = str(key_idx) + \"_fold\"+ str(fold_idx+1) + \".png\"\n",
    "        plt.imsave(fname,conv_img, cmap='gray')\n",
    "        print(\"save file:\",fname)"
   ]
  },
  {
   "cell_type": "code",
   "execution_count": null,
   "metadata": {},
   "outputs": [],
   "source": []
  }
 ],
 "metadata": {
  "kernelspec": {
   "display_name": "Python 3",
   "language": "python",
   "name": "python3"
  },
  "language_info": {
   "codemirror_mode": {
    "name": "ipython",
    "version": 3
   },
   "file_extension": ".py",
   "mimetype": "text/x-python",
   "name": "python",
   "nbconvert_exporter": "python",
   "pygments_lexer": "ipython3",
   "version": "3.6.3"
  }
 },
 "nbformat": 4,
 "nbformat_minor": 2
}
